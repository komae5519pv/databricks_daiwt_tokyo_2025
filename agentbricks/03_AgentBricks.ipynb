{
 "cells": [
  {
   "cell_type": "markdown",
   "metadata": {
    "application/vnd.databricks.v1+cell": {
     "cellMetadata": {
      "byteLimit": 2048000,
      "rowLimit": 10000
     },
     "inputWidgets": {},
     "nuid": "cd6a2453-61a6-4efd-922b-fe198ccee33a",
     "showTitle": false,
     "tableResultSettingsMap": {},
     "title": ""
    }
   },
   "source": [
    "## Agent Bricks - 情報抽出\n",
    "\n",
    "[Agent Bricksの使用: 情報抽出](https://docs.databricks.com/aws/ja/generative-ai/agent-bricks/key-info-extraction)"
   ]
  },
  {
   "cell_type": "markdown",
   "metadata": {
    "application/vnd.databricks.v1+cell": {
     "cellMetadata": {},
     "inputWidgets": {},
     "nuid": "e7d74116-a9ab-4935-b3b0-dc525e503471",
     "showTitle": false,
     "tableResultSettingsMap": {},
     "title": ""
    }
   },
   "source": [
    "## 1. bronze - PDFからテキスト抽出（OCR）\n",
    "\n",
    "Volumeに置いたPDFからテキストを抽出します。<br>\n",
    "抽出結果のテキストデータはテーブル`ab_receipt_bronze`として保存します。\n",
    "\n",
    "- Agent Bricks -> 情報の抽出 -> PDF を使用"
   ]
  },
  {
   "cell_type": "markdown",
   "metadata": {
    "application/vnd.databricks.v1+cell": {
     "cellMetadata": {},
     "inputWidgets": {},
     "nuid": "d9d0de32-5ba7-4a2b-9449-d4b05c7187a5",
     "showTitle": false,
     "tableResultSettingsMap": {},
     "title": ""
    }
   },
   "source": [
    "\n",
    "[ここに画像 or GIF 載せる]"
   ]
  },
  {
   "cell_type": "markdown",
   "metadata": {
    "application/vnd.databricks.v1+cell": {
     "cellMetadata": {},
     "inputWidgets": {},
     "nuid": "22736678-5b44-46bb-ac96-3e98e78bb7cd",
     "showTitle": false,
     "tableResultSettingsMap": {},
     "title": ""
    }
   },
   "source": [
    "## 2. silver - 情報の抽出エージェントを作成\n",
    "\n",
    "テキストからJSON抽出するエージェントを作成します。<br>\n",
    "`ab_receipt_bronze`テーブルの`text`カラム（pdfから抽出したテキスト）から、必要な情報をJSON形式で抽出するエージェントを作成します。<br>\n",
    "Agent Bricksで作成したエージェントは、モデルサービングエンドポイントにモデルとして自動デプロイされます。<br>\n",
    "\n",
    "- Agent Bricks -> 情報の抽出 -> ビルド"
   ]
  },
  {
   "cell_type": "markdown",
   "metadata": {
    "application/vnd.databricks.v1+cell": {
     "cellMetadata": {},
     "inputWidgets": {},
     "nuid": "3f5a084c-9785-44b8-a608-92afc1af7d17",
     "showTitle": false,
     "tableResultSettingsMap": {},
     "title": ""
    }
   },
   "source": [
    "### 2-1. 抽出対象のデータ、抽出するJSON形式を定義する\n",
    "\n",
    "[ここに画像 or GIF 載せる]"
   ]
  },
  {
   "cell_type": "code",
   "execution_count": 0,
   "metadata": {
    "application/vnd.databricks.v1+cell": {
     "cellMetadata": {
      "byteLimit": 2048000,
      "rowLimit": 10000
     },
     "inputWidgets": {},
     "nuid": "367d73ef-c7e0-44a8-a480-806da20e3e5e",
     "showTitle": true,
     "tableResultSettingsMap": {},
     "title": "JSON sample (JP)"
    }
   },
   "outputs": [],
   "source": [
    "# print(\"\"\"\n",
    "# {\n",
    "#   \"発行日\": \"2024-12-21\",\n",
    "#   \"請求先名\": \"ブリックスステム株式会社\",\n",
    "#   \"請求元\": {\n",
    "#     \"郵便番号\": \"150-0002\",\n",
    "#     \"住所\": \"東京都渋谷区渋谷2-12-19 △△ヒル 1F\",\n",
    "#     \"企業名\": \"株式会社パーパスメディア\",\n",
    "#     \"部署名\": \"営業推進部\"\n",
    "#   },\n",
    "#   \"明細\": [\n",
    "#     {\n",
    "#       \"商品名\": \"○○○○○ サンプル タイプA\",\n",
    "#       \"数量\": 12345678,\n",
    "#       \"単価\": 10,\n",
    "#       \"金額\": 123456780\n",
    "#     },\n",
    "#     {\n",
    "#       \"商品名\": \"△△△ システム機器 ( 自動調整タイプ)\",\n",
    "#       \"数量\": 2,\n",
    "#       \"単価\": 123456789,\n",
    "#       \"金額\": 246913578\n",
    "#     },\n",
    "#     {\n",
    "#       \"商品名\": \"△△△ システムの取付作業\",\n",
    "#       \"数量\": 3,\n",
    "#       \"単価\": 30000,\n",
    "#       \"金額\": 90000\n",
    "#     },\n",
    "#     {\n",
    "#       \"商品名\": \"△△△ システムの操作説明 講習会\",\n",
    "#       \"数量\": 40,\n",
    "#       \"単価\": 4000,\n",
    "#       \"金額\": 160000\n",
    "#     },\n",
    "#     {\n",
    "#       \"商品名\": \"□□□□□□ 素材 ( ×× 在含む )\",\n",
    "#       \"数量\": 50,\n",
    "#       \"単価\": 5000,\n",
    "#       \"金額\": 250000\n",
    "#     }\n",
    "#   ],\n",
    "#   \"小計\": 370870358,\n",
    "#   \"消費税\": 37087035,\n",
    "#   \"合計金額\": 407957393,\n",
    "#   \"備考\": \"\"\n",
    "# }\n",
    "# \"\"\")"
   ]
  },
  {
   "cell_type": "code",
   "execution_count": 0,
   "metadata": {
    "application/vnd.databricks.v1+cell": {
     "cellMetadata": {
      "byteLimit": 2048000,
      "rowLimit": 10000
     },
     "inputWidgets": {},
     "nuid": "cc49abaf-4dcd-486f-a495-1b3264b4ac4f",
     "showTitle": true,
     "tableResultSettingsMap": {},
     "title": "JSON sample (EN)"
    },
    "jupyter": {
     "source_hidden": true
    }
   },
   "outputs": [],
   "source": [
    "print(\"\"\"\n",
    "{\n",
    "  \"issue_date\": \"2024-12-21\",\n",
    "  \"billing_name\": \"ブリックスステム株式会社\",\n",
    "  \"supplier\": {\n",
    "    \"zip_code\": \"104-0031\",\n",
    "    \"address\": \"東京都中央区赤絪3丁目1-1 東京スケアガーデン14階\",\n",
    "    \"company_name\": \"\",\n",
    "    \"department_name\": \"営業部\"\n",
    "  },\n",
    "  \"details\": [\n",
    "    {\n",
    "      \"item_name\": \"○○○○○ サンプル タイプA\",\n",
    "      \"item_quantity\": 12345678,\n",
    "      \"item_unit_price\": 10,\n",
    "      \"item_amount\": 123456780\n",
    "    },\n",
    "    {\n",
    "      \"item_name\": \"△△△ システム機器 ( 自動調整タイプ)\",\n",
    "      \"item_quantity\": 2,\n",
    "      \"item_unit_price\": 123456789,\n",
    "      \"item_amount\": 246913578\n",
    "    },\n",
    "    {\n",
    "      \"item_name\": \"△△△ システムの取付作業\",\n",
    "      \"item_quantity\": 3,\n",
    "      \"item_unit_price\": 30000,\n",
    "      \"item_amount\": 90000\n",
    "    },\n",
    "    {\n",
    "      \"item_name\": \"△△△ システムの操作説明 講習会\",\n",
    "      \"item_quantity\": 40,\n",
    "      \"item_unit_price\": 4000,\n",
    "      \"item_amount\": 160000\n",
    "    },\n",
    "    {\n",
    "      \"item_name\": \"□□□□□□ 素材 ( ×× 在含む )\",\n",
    "      \"item_quantity\": 50,\n",
    "      \"item_unit_price\": 5000,\n",
    "      \"item_amount\": 250000\n",
    "    }\n",
    "  ],\n",
    "  \"subtotal\": 370870358,\n",
    "  \"consumption_tax\": 37087035,\n",
    "  \"total_amount\": 407957393,\n",
    "  \"remarks\": \"\"\n",
    "}\n",
    "\"\"\")"
   ]
  },
  {
   "cell_type": "markdown",
   "metadata": {
    "application/vnd.databricks.v1+cell": {
     "cellMetadata": {},
     "inputWidgets": {},
     "nuid": "b8f9fde5-e374-493d-bd50-e021493fdc86",
     "showTitle": false,
     "tableResultSettingsMap": {},
     "title": ""
    }
   },
   "source": [
    "#### エージェント構成\n",
    "##### ガイドライン\n",
    "\n",
    "| カラム名 | データ型 | ガイドライン(JP) | ガイドライン(EN) |\n",
    "|---|---|---|---|\n",
    "| issue_date | string | 領収書/請求書の発行日（YYYY-MM-DD形式）。Null非許可。 | Date when the receipt or invoice was issued (YYYY-MM-DD, ISO 8601 format). Null not allowed. |\n",
    "| billing_name | string | 請求先（個人または法人）。Null非許可。 | Name of the person or entity billed (individual or corporation). Null not allowed. |\n",
    "| supplier | object | 請求元情報（会社・事業者に関するすべての情報の親オブジェクト）。Null非許可。 | Object containing all information about the issuer (company or business). Null allowed. |\n",
    "| supplier › zip_code | string | 請求元住所の郵便番号（XXX-XXXX）。Null許可。 | Postal code of the issuer's address (e.g., XXX-XXXX in Japan). Null allowed. |\n",
    "| supplier › address | string | 請求元の住所全文。都・市区町村・番地・建物名等含む。Null許可。 | Full address of the issuer, including prefecture, city, block number, and building name, etc. Null allowed. |\n",
    "| supplier › company_name | string | 請求元の正式な会社名（法人格含む。「株式会社」など）。Null非許可。 | Official company name of the issuer, including corporation type (e.g., \"Co., Ltd.\", \"Inc.\"). Null not allowed. |\n",
    "| supplier › department_name | string | 請求元の部署名（担当部門）。Null許可。 | Department name of the issuer responsible for the transaction. Null allowed. |\n",
    "| details | array[obj] | 商品・サービスごとの明細配列。複数アイテム情報を格納。Null許可。 | Array of product or service details; can include multiple items. Null not allowed. |\n",
    "| details › items › item_name | string | 商品・サービスの名称。型番や仕様名記載も可。Null許可。 | Name of the product or service; model numbers or specifications may be included. Null allowed. |\n",
    "| details › items › item_quantity | integer | 購入数量。カンマ区切りせず（区切り文字なしで）整数値で表記。Null許可。 | Quantity purchased. Enter as an integer, without any comma or delimiter. Null allowed. |\n",
    "| details › items › item_unit_price | integer | 商品単位あたりの単価。日本円の整数値でカンマ区切りせず（区切り文字なしで）表記。Null許可。 | Unit price per item, as an integer without any comma or separator, in local currency. No decimals. Null allowed. |\n",
    "| details › items › item_amount | integer | 明細ごとの合計金額（数量×単価）。日本円の整数値でカンマ区切りせず（区切り文字なしで）表記。Null許可。| Line item total (quantity × unit price), entered as an integer, without commas or separators. Local currency. Null allowed. |\n",
    "| subtotal | integer | 全明細の合計金額（税抜）。日本円の整数値でカンマ区切りせず（区切り文字なしで）表記。Null許可。| Total of all line items before tax; enter as integer with no commas or separators. Local currency. Null allowed. |\n",
    "| consumption_tax | integer | 小計に適用する消費税額。日本円の整数値でカンマ区切りせず（区切り文字なしで）表記。Null非許可。 | Consumption tax applied to subtotal (calculated by tax rate). Specify as integer, no commas or delimiters. Null not allowed. |\n",
    "| total_amount | integer | 支払総額（小計＋消費税）。日本円の整数値でカンマ区切りせず（区切り文字なしで）表記。Null非許可。 | Total payment amount (subtotal plus tax). Enter as integer, without any thousands separators, in local currency. Null not allowed. |\n",
    "| remarks | string | 注意事項・特記事項。Null許可。 | Additional notes or remarks. This field can be left blank if not needed. Null allowed. |\n",
    "\n",
    "##### 指示\n",
    "```\n",
    "```"
   ]
  },
  {
   "cell_type": "code",
   "execution_count": 0,
   "metadata": {
    "application/vnd.databricks.v1+cell": {
     "cellMetadata": {
      "byteLimit": 2048000,
      "rowLimit": 10000
     },
     "inputWidgets": {},
     "nuid": "d3ae2b73-77fa-4f88-9ebe-d1eee49f748e",
     "showTitle": true,
     "tableResultSettingsMap": {},
     "title": "ガイドラインJSON"
    },
    "jupyter": {
     "source_hidden": true
    }
   },
   "outputs": [],
   "source": [
    "print(\"\"\"\n",
    "{\n",
    "  \"$schema\": \"https://json-schema.org/draft/2020-12/schema\",\n",
    "  \"title\": \"Generated Schema\",\n",
    "  \"type\": \"object\",\n",
    "  \"properties\": {\n",
    "    \"issue_date\": {\n",
    "      \"description\": \"領収書/請求書の発行日（YYYY-MM-DD形式）。Null非許可。\",\n",
    "      \"anyOf\": [\n",
    "        {\n",
    "          \"type\": \"string\"\n",
    "        },\n",
    "        {\n",
    "          \"type\": \"null\"\n",
    "        }\n",
    "      ]\n",
    "    },\n",
    "    \"billing_name\": {\n",
    "      \"description\": \"請求先（個人または法人）。Null非許可。\",\n",
    "      \"anyOf\": [\n",
    "        {\n",
    "          \"type\": \"string\"\n",
    "        },\n",
    "        {\n",
    "          \"type\": \"null\"\n",
    "        }\n",
    "      ]\n",
    "    },\n",
    "    \"supplier\": {\n",
    "      \"description\": \"請求元情報（会社・事業者に関するすべての情報の親オブジェクト）。Null非許可。\",\n",
    "      \"anyOf\": [\n",
    "        {\n",
    "          \"type\": \"object\",\n",
    "          \"properties\": {\n",
    "            \"zip_code\": {\n",
    "              \"anyOf\": [\n",
    "                {\n",
    "                  \"type\": \"string\"\n",
    "                },\n",
    "                {\n",
    "                  \"type\": \"null\"\n",
    "                }\n",
    "              ],\n",
    "              \"description\": \"請求元住所の郵便番号（XXX-XXXX）。Null許可。\"\n",
    "            },\n",
    "            \"address\": {\n",
    "              \"anyOf\": [\n",
    "                {\n",
    "                  \"type\": \"string\"\n",
    "                },\n",
    "                {\n",
    "                  \"type\": \"null\"\n",
    "                }\n",
    "              ],\n",
    "              \"description\": \"請求元の住所全文。都・市区町村・番地・建物名等含む。Null許可。\"\n",
    "            },\n",
    "            \"company_name\": {\n",
    "              \"anyOf\": [\n",
    "                {\n",
    "                  \"type\": \"string\"\n",
    "                },\n",
    "                {\n",
    "                  \"type\": \"null\"\n",
    "                }\n",
    "              ],\n",
    "              \"description\": \"請求元の正式な会社名（法人格含む。「株式会社」など）。Null非許可。\"\n",
    "            },\n",
    "            \"department_name\": {\n",
    "              \"anyOf\": [\n",
    "                {\n",
    "                  \"type\": \"string\"\n",
    "                },\n",
    "                {\n",
    "                  \"type\": \"null\"\n",
    "                }\n",
    "              ],\n",
    "              \"description\": \"請求元の部署名（担当部門）。Null許可。\"\n",
    "            }\n",
    "          },\n",
    "          \"required\": [\n",
    "            \"zip_code\",\n",
    "            \"address\",\n",
    "            \"company_name\",\n",
    "            \"department_name\"\n",
    "          ]\n",
    "        },\n",
    "        {\n",
    "          \"type\": \"null\"\n",
    "        }\n",
    "      ]\n",
    "    },\n",
    "    \"details\": {\n",
    "      \"description\": \"商品・サービスごとの明細配列。複数アイテム情報を格納。Null許可。\",\n",
    "      \"anyOf\": [\n",
    "        {\n",
    "          \"type\": \"array\",\n",
    "          \"items\": {\n",
    "            \"type\": \"object\",\n",
    "            \"properties\": {\n",
    "              \"item_name\": {\n",
    "                \"anyOf\": [\n",
    "                  {\n",
    "                    \"type\": \"string\"\n",
    "                  },\n",
    "                  {\n",
    "                    \"type\": \"null\"\n",
    "                  }\n",
    "                ],\n",
    "                \"description\": \"商品・サービスの名称。型番や仕様名記載も可。Null許可。\"\n",
    "              },\n",
    "              \"item_quantity\": {\n",
    "                \"anyOf\": [\n",
    "                  {\n",
    "                    \"type\": \"integer\"\n",
    "                  },\n",
    "                  {\n",
    "                    \"type\": \"null\"\n",
    "                  }\n",
    "                ],\n",
    "                \"description\": \"購入数量。カンマ区切りせず（区切り文字なしで）整数値で表記。Null許可。\"\n",
    "              },\n",
    "              \"item_unit_price\": {\n",
    "                \"anyOf\": [\n",
    "                  {\n",
    "                    \"type\": \"integer\"\n",
    "                  },\n",
    "                  {\n",
    "                    \"type\": \"null\"\n",
    "                  }\n",
    "                ],\n",
    "                \"description\": \"商品単位あたりの単価。日本円の整数値でカンマ区切りせず（区切り文字なしで）表記。Null許可。\"\n",
    "              },\n",
    "              \"item_amount\": {\n",
    "                \"anyOf\": [\n",
    "                  {\n",
    "                    \"type\": \"integer\"\n",
    "                  },\n",
    "                  {\n",
    "                    \"type\": \"null\"\n",
    "                  }\n",
    "                ],\n",
    "                \"description\": \"明細ごとの合計金額（数量×単価）。日本円の整数値でカンマ区切りせず（区切り文字なしで）表記。Null許可。\"\n",
    "              }\n",
    "            },\n",
    "            \"required\": [\n",
    "              \"item_name\",\n",
    "              \"item_quantity\",\n",
    "              \"item_unit_price\",\n",
    "              \"item_amount\"\n",
    "            ]\n",
    "          }\n",
    "        },\n",
    "        {\n",
    "          \"type\": \"null\"\n",
    "        }\n",
    "      ]\n",
    "    },\n",
    "    \"subtotal\": {\n",
    "      \"description\": \"全明細の合計金額（税抜）。日本円の整数値でカンマ区切りせず（区切り文字なしで）表記。Null許可。\",\n",
    "      \"anyOf\": [\n",
    "        {\n",
    "          \"type\": \"integer\"\n",
    "        },\n",
    "        {\n",
    "          \"type\": \"null\"\n",
    "        }\n",
    "      ]\n",
    "    },\n",
    "    \"consumption_tax\": {\n",
    "      \"description\": \"小計に適用する消費税額。日本円の整数値でカンマ区切りせず（区切り文字なしで）表記。Null非許可。\",\n",
    "      \"anyOf\": [\n",
    "        {\n",
    "          \"type\": \"integer\"\n",
    "        },\n",
    "        {\n",
    "          \"type\": \"null\"\n",
    "        }\n",
    "      ]\n",
    "    },\n",
    "    \"total_amount\": {\n",
    "      \"description\": \"支払総額（小計＋消費税）。日本円の整数値でカンマ区切りせず（区切り文字なしで）表記。Null非許可。\",\n",
    "      \"anyOf\": [\n",
    "        {\n",
    "          \"type\": \"integer\"\n",
    "        },\n",
    "        {\n",
    "          \"type\": \"null\"\n",
    "        }\n",
    "      ]\n",
    "    },\n",
    "    \"remarks\": {\n",
    "      \"description\": \"注意事項・特記事項。Null許可。\",\n",
    "      \"anyOf\": [\n",
    "        {\n",
    "          \"type\": \"string\"\n",
    "        },\n",
    "        {\n",
    "          \"type\": \"null\"\n",
    "        }\n",
    "      ]\n",
    "    }\n",
    "  },\n",
    "  \"required\": [\n",
    "    \"issue_date\",\n",
    "    \"billing_name\",\n",
    "    \"supplier\",\n",
    "    \"details\",\n",
    "    \"subtotal\",\n",
    "    \"consumption_tax\",\n",
    "    \"total_amount\",\n",
    "    \"remarks\"\n",
    "  ]\n",
    "}\n",
    "\"\"\")"
   ]
  },
  {
   "cell_type": "markdown",
   "metadata": {
    "application/vnd.databricks.v1+cell": {
     "cellMetadata": {},
     "inputWidgets": {},
     "nuid": "b86b6613-56b4-4389-babd-96ced391a907",
     "showTitle": false,
     "tableResultSettingsMap": {},
     "title": ""
    }
   },
   "source": [
    "### 2-2. ガイドラインを定義する"
   ]
  },
  {
   "cell_type": "markdown",
   "metadata": {
    "application/vnd.databricks.v1+cell": {
     "cellMetadata": {},
     "inputWidgets": {},
     "nuid": "91ff8d3a-a23e-49c3-a2e8-8837da15f7b3",
     "showTitle": false,
     "tableResultSettingsMap": {},
     "title": ""
    }
   },
   "source": [
    "## 3. silver - SQLを通してJSON抽出エージェントを使いテーブル保存\n",
    "\n",
    "2でモデルサービングエンドポイントにデプロイされたモデルは、REST APIとして外部アプリからアクセスして活用できます。<br>\n",
    "Databricks内であれば、Databricks SQL の AI関数 `ai_query()` を通して活用できます。<br>\n",
    "\n",
    "ここでは、AI関数 `ai_query()` を活用し、SQLでエージェントを呼び出し、<br>\n",
    "テキスト情報をJSONに変換 & テーブル`ab_receipt_silver`を作成します。<br>\n",
    "\n",
    "- 作業場所: Notebook or SQLエディタ\n",
    "- モデルサービングエンドポイント名: 例）`kie-000000xx-endpoint` ※Agent Bricksで作成した実際のエンドポイント名を使ってください"
   ]
  },
  {
   "cell_type": "code",
   "execution_count": 0,
   "metadata": {
    "application/vnd.databricks.v1+cell": {
     "cellMetadata": {
      "byteLimit": 2048000,
      "rowLimit": 10000
     },
     "inputWidgets": {},
     "nuid": "d6ec0f18-3e56-4dd5-8c06-7bd7dc938c89",
     "showTitle": false,
     "tableResultSettingsMap": {},
     "title": ""
    }
   },
   "outputs": [],
   "source": [
    "%run ./00_config"
   ]
  },
  {
   "cell_type": "code",
   "execution_count": 0,
   "metadata": {
    "application/vnd.databricks.v1+cell": {
     "cellMetadata": {
      "byteLimit": 2048000,
      "rowLimit": 10000
     },
     "inputWidgets": {},
     "nuid": "d8c3ff7f-2c9b-4013-83ee-7ff54d937391",
     "showTitle": false,
     "tableResultSettingsMap": {},
     "title": ""
    }
   },
   "outputs": [],
   "source": [
    "ENDPOINT_NAME = \"kie-dae38944-endpoint\""
   ]
  },
  {
   "cell_type": "code",
   "execution_count": 0,
   "metadata": {
    "application/vnd.databricks.v1+cell": {
     "cellMetadata": {
      "byteLimit": 2048000,
      "rowLimit": 10000
     },
     "inputWidgets": {},
     "nuid": "6d180314-d1b5-4686-ab66-e61d7bebbc63",
     "showTitle": false,
     "tableResultSettingsMap": {},
     "title": ""
    }
   },
   "outputs": [],
   "source": [
    "# テキスト情報から必要項目をJSON形式で切り出して、Silverをテーブルを作成\n",
    "spark.sql(f\"\"\"\n",
    "CREATE OR REPLACE TABLE {MY_CATALOG}.{MY_SCHEMA}.ab_receipt_silver AS\n",
    "WITH query_results AS (\n",
    "  SELECT `text` AS input,\n",
    "    ai_query(\n",
    "      '{ENDPOINT_NAME}',\n",
    "      input,\n",
    "      failOnError => false\n",
    "    ) AS response\n",
    "  FROM (\n",
    "    SELECT text\n",
    "    FROM {MY_CATALOG}.{MY_SCHEMA}.ab_receipt_bronze\n",
    "  )\n",
    ")\n",
    "SELECT\n",
    "  input,\n",
    "  response.result AS response,\n",
    "  response.errorMessage AS error\n",
    "FROM query_results\n",
    "\"\"\")"
   ]
  },
  {
   "cell_type": "code",
   "execution_count": 0,
   "metadata": {
    "application/vnd.databricks.v1+cell": {
     "cellMetadata": {
      "byteLimit": 2048000,
      "rowLimit": 10000
     },
     "inputWidgets": {},
     "nuid": "b2e7d119-1dbd-4d9b-afbe-ffacb20bf42f",
     "showTitle": false,
     "tableResultSettingsMap": {},
     "title": ""
    }
   },
   "outputs": [],
   "source": [
    "# テキスト情報から必要項目をJSON形式で切り出して、Silverをテーブルを作成\n",
    "print(f\"\"\"\n",
    "CREATE OR REPLACE TABLE {MY_CATALOG}.{MY_SCHEMA}.ab_receipt_silver AS\n",
    "WITH query_results AS (\n",
    "  SELECT `text` AS input,\n",
    "    ai_query(\n",
    "      '{ENDPOINT_NAME}',\n",
    "      input,\n",
    "      failOnError => false\n",
    "    ) AS response\n",
    "  FROM (\n",
    "    SELECT text\n",
    "    FROM {MY_CATALOG}.{MY_SCHEMA}.ab_receipt_bronze\n",
    "  )\n",
    ")\n",
    "SELECT\n",
    "  input,\n",
    "  response.result AS response,\n",
    "  response.errorMessage AS error\n",
    "FROM query_results\n",
    "\"\"\")"
   ]
  },
  {
   "cell_type": "code",
   "execution_count": 0,
   "metadata": {
    "application/vnd.databricks.v1+cell": {
     "cellMetadata": {
      "byteLimit": 2048000,
      "implicitDf": true,
      "rowLimit": 10000
     },
     "inputWidgets": {},
     "nuid": "c86a60f0-9249-45ae-bb7f-1bc5b1e175d5",
     "showTitle": true,
     "tableResultSettingsMap": {},
     "title": "チェック"
    }
   },
   "outputs": [],
   "source": [
    "display(\n",
    "  spark.sql(f\"select * from {MY_CATALOG}.{MY_SCHEMA}.ab_receipt_silver\")\n",
    ")"
   ]
  },
  {
   "cell_type": "markdown",
   "metadata": {
    "application/vnd.databricks.v1+cell": {
     "cellMetadata": {},
     "inputWidgets": {},
     "nuid": "dd8b04ab-cc7c-4837-b32e-fd8a65546313",
     "showTitle": false,
     "tableResultSettingsMap": {},
     "title": ""
    }
   },
   "source": [
    "## 4. gold - JSON（半構造化）をクエリで構造化テーブルに展開\n",
    "\n",
    "先ほど保存した`receipt_silver`テーブルをもとに、SQLを用いてJSONデータを分析しやすい構造化テーブルに展開します。"
   ]
  },
  {
   "cell_type": "code",
   "execution_count": 0,
   "metadata": {
    "application/vnd.databricks.v1+cell": {
     "cellMetadata": {
      "byteLimit": 2048000,
      "rowLimit": 10000
     },
     "inputWidgets": {},
     "nuid": "0cd8f2b3-0437-4afd-a7bb-109436e5a795",
     "showTitle": false,
     "tableResultSettingsMap": {},
     "title": ""
    }
   },
   "outputs": [],
   "source": [
    "df = spark.sql(f\"\"\"\n",
    "-- VARIANT型response列をto_jsonで一度STRING型に変換し、from_jsonでパース\n",
    "CREATE OR REPLACE TABLE {MY_CATALOG}.{MY_SCHEMA}.ab_receipt_gold AS\n",
    "SELECT\n",
    "  uuid() AS id,\n",
    "  parsed.issue_date AS issue_date,                              -- 発行日\n",
    "  parsed.billing_name AS billing_name,                          -- 請求先名\n",
    "  parsed.supplier.zip_code AS supplier_zip,                     -- 請求元.郵便番号\n",
    "  parsed.supplier.address AS supplier_address,                  -- 請求元.住所\n",
    "  parsed.supplier.company_name AS supplier_company,             -- 請求元.企業名\n",
    "  parsed.supplier.department_name AS supplier_department,       -- 請求元.部署名\n",
    "  detail.item_name AS item_name,                                -- 商品名\n",
    "  CAST(detail.item_quantity AS BIGINT) AS item_qty,             -- 詳細.数量\n",
    "  CAST(detail.item_unit_price AS BIGINT) AS item_unit_price,    -- 詳細.単価\n",
    "  CAST(detail.item_amount AS BIGINT) AS item_amount,            -- 詳細.金額\n",
    "  CAST(parsed.subtotal AS BIGINT) AS subtotal,                  -- 小計（税抜）\n",
    "  CAST(parsed.consumption_tax AS BIGINT) AS consumption_tax,    -- 消費税金額\n",
    "  CAST(parsed.total_amount AS BIGINT) AS total_amount_with_tax, -- 合計金額（税込）\n",
    "  parsed.remarks AS remarks                                     -- 備考\n",
    "FROM (\n",
    "  SELECT\n",
    "    *,\n",
    "    from_json(\n",
    "      to_json(response),\n",
    "      'STRUCT<\n",
    "         issue_date:STRING,\n",
    "         billing_name:STRING,\n",
    "         supplier:STRUCT<\n",
    "           zip_code:STRING,\n",
    "           address:STRING,\n",
    "           company_name:STRING,\n",
    "           department_name:STRING\n",
    "         >,\n",
    "         details:ARRAY<\n",
    "           STRUCT<\n",
    "             item_name:STRING,\n",
    "             item_quantity:DOUBLE,\n",
    "             item_unit_price:DOUBLE,\n",
    "             item_amount:DOUBLE\n",
    "           >\n",
    "         >,\n",
    "         subtotal:DOUBLE,\n",
    "         consumption_tax:DOUBLE,\n",
    "         total_amount:DOUBLE,\n",
    "         remarks:STRING\n",
    "       >'\n",
    "    ) AS parsed\n",
    "  FROM {MY_CATALOG}.{MY_SCHEMA}.ab_receipt_silver\n",
    ")\n",
    "LATERAL VIEW\n",
    "  EXPLODE(parsed.details) details AS detail\n",
    ";\n",
    "\"\"\")"
   ]
  },
  {
   "cell_type": "code",
   "execution_count": 0,
   "metadata": {
    "application/vnd.databricks.v1+cell": {
     "cellMetadata": {
      "byteLimit": 2048000,
      "rowLimit": 10000
     },
     "inputWidgets": {},
     "nuid": "3eb5b94f-a30c-41e2-802f-2cc336c7a902",
     "showTitle": false,
     "tableResultSettingsMap": {},
     "title": ""
    },
    "jupyter": {
     "source_hidden": true
    }
   },
   "outputs": [],
   "source": [
    "print(f\"\"\"\n",
    "-- VARIANT型response列をto_jsonで一度STRING型に変換し、from_jsonでパース\n",
    "CREATE OR REPLACE TABLE {MY_CATALOG}.{MY_SCHEMA}.ab_receipt_gold AS\n",
    "SELECT\n",
    "  uuid() AS id,\n",
    "  parsed.issue_date AS issue_date,                              -- 発行日\n",
    "  parsed.billing_name AS billing_name,                          -- 請求先名\n",
    "  parsed.supplier.zip_code AS supplier_zip,                     -- 請求元.郵便番号\n",
    "  parsed.supplier.address AS supplier_address,                  -- 請求元.住所\n",
    "  parsed.supplier.company_name AS supplier_company,             -- 請求元.企業名\n",
    "  parsed.supplier.department_name AS supplier_department,       -- 請求元.部署名\n",
    "  detail.item_name AS item_name,                                -- 商品名\n",
    "  CAST(detail.item_quantity AS BIGINT) AS item_qty,             -- 詳細.数量\n",
    "  CAST(detail.item_unit_price AS BIGINT) AS item_unit_price,    -- 詳細.単価\n",
    "  CAST(detail.item_amount AS BIGINT) AS item_amount,            -- 詳細.金額\n",
    "  CAST(parsed.subtotal AS BIGINT) AS subtotal,                  -- 小計（税抜）\n",
    "  CAST(parsed.consumption_tax AS BIGINT) AS consumption_tax,    -- 消費税金額\n",
    "  CAST(parsed.total_amount AS BIGINT) AS total_amount_with_tax, -- 合計金額（税込）\n",
    "  parsed.remarks AS remarks                                     -- 備考\n",
    "FROM (\n",
    "  SELECT\n",
    "    *,\n",
    "    from_json(\n",
    "      to_json(response),\n",
    "      'STRUCT<\n",
    "         issue_date:STRING,\n",
    "         billing_name:STRING,\n",
    "         supplier:STRUCT<\n",
    "           zip_code:STRING,\n",
    "           address:STRING,\n",
    "           company_name:STRING,\n",
    "           department_name:STRING\n",
    "         >,\n",
    "         details:ARRAY<\n",
    "           STRUCT<\n",
    "             item_name:STRING,\n",
    "             item_quantity:DOUBLE,\n",
    "             item_unit_price:DOUBLE,\n",
    "             item_amount:DOUBLE\n",
    "           >\n",
    "         >,\n",
    "         subtotal:DOUBLE,\n",
    "         consumption_tax:DOUBLE,\n",
    "         total_amount:DOUBLE,\n",
    "         remarks:STRING\n",
    "       >'\n",
    "    ) AS parsed\n",
    "  FROM {MY_CATALOG}.{MY_SCHEMA}.ab_receipt_silver\n",
    ")\n",
    "LATERAL VIEW\n",
    "  EXPLODE(parsed.details) details AS detail\n",
    ";\n",
    "\"\"\")"
   ]
  },
  {
   "cell_type": "code",
   "execution_count": 0,
   "metadata": {
    "application/vnd.databricks.v1+cell": {
     "cellMetadata": {
      "byteLimit": 2048000,
      "implicitDf": true,
      "rowLimit": 10000
     },
     "inputWidgets": {},
     "nuid": "a743802a-18b4-422c-99f8-0050e6dce39c",
     "showTitle": false,
     "tableResultSettingsMap": {},
     "title": ""
    }
   },
   "outputs": [],
   "source": [
    "display(\n",
    "  spark.sql(f\"select * from {MY_CATALOG}.{MY_SCHEMA}.ab_receipt_gold\")\n",
    ")"
   ]
  },
  {
   "cell_type": "code",
   "execution_count": 0,
   "metadata": {
    "application/vnd.databricks.v1+cell": {
     "cellMetadata": {
      "byteLimit": 2048000,
      "rowLimit": 10000
     },
     "inputWidgets": {},
     "nuid": "aa57c3fc-9dc7-422c-9e6e-6e0b6d83a839",
     "showTitle": true,
     "tableResultSettingsMap": {},
     "title": "主キー設定"
    }
   },
   "outputs": [],
   "source": [
    "# 変数定義\n",
    "TABLE_PATH = f'{MY_CATALOG}.{MY_SCHEMA}.ab_receipt_gold'                 # テーブルパス\n",
    "PK_CONSTRAINT_NAME = f'pk_ab_receipt_gold'                               # 主キー\n",
    "\n",
    "# NOT NULL制約の追加\n",
    "columns_to_set_not_null = [\n",
    "    'id']\n",
    "\n",
    "for column in columns_to_set_not_null:\n",
    "    spark.sql(f\"\"\"\n",
    "    ALTER TABLE {TABLE_PATH}\n",
    "    ALTER COLUMN {column} SET NOT NULL;\n",
    "    \"\"\")\n",
    "\n",
    "# 主キー設定\n",
    "spark.sql(f'''\n",
    "ALTER TABLE {TABLE_PATH} DROP CONSTRAINT IF EXISTS {PK_CONSTRAINT_NAME};\n",
    "''')\n",
    "\n",
    "spark.sql(f'''\n",
    "ALTER TABLE {TABLE_PATH}\n",
    "ADD CONSTRAINT {PK_CONSTRAINT_NAME} PRIMARY KEY (id);\n",
    "''')\n",
    "\n",
    "# # チェック\n",
    "# display(\n",
    "#     spark.sql(f'''\n",
    "#     DESCRIBE EXTENDED {TABLE_PATH}\n",
    "#     '''))"
   ]
  },
  {
   "cell_type": "code",
   "execution_count": 0,
   "metadata": {
    "application/vnd.databricks.v1+cell": {
     "cellMetadata": {
      "byteLimit": 2048000,
      "rowLimit": 10000
     },
     "inputWidgets": {},
     "nuid": "eee63244-cc10-4c9e-9028-30d24591279d",
     "showTitle": true,
     "tableResultSettingsMap": {},
     "title": "認定済みタグの追加"
    }
   },
   "outputs": [],
   "source": [
    "certified_tag = 'system.Certified'\n",
    "\n",
    "try:\n",
    "    spark.sql(f\"ALTER TABLE ab_receipt_gold SET TAGS ('{certified_tag}')\")\n",
    "    print(f\"認定済みタグ '{certified_tag}' の追加が完了しました。\")\n",
    "\n",
    "except Exception as e:\n",
    "    print(f\"認定済みタグ '{certified_tag}' の追加中にエラーが発生しました: {str(e)}\")\n",
    "    print(\"このエラーはタグ機能に対応していないワークスペースで実行した場合に発生する可能性があります。\")"
   ]
  },
  {
   "cell_type": "code",
   "execution_count": 0,
   "metadata": {
    "application/vnd.databricks.v1+cell": {
     "cellMetadata": {
      "byteLimit": 2048000,
      "rowLimit": 10000
     },
     "inputWidgets": {},
     "nuid": "89e3f00c-c8f8-44f0-bb44-92c849134b58",
     "showTitle": true,
     "tableResultSettingsMap": {},
     "title": "コメント追加"
    }
   },
   "outputs": [],
   "source": [
    "# テーブル名\n",
    "table_name = f'{MY_CATALOG}.{MY_SCHEMA}.ab_receipt_gold'\n",
    "\n",
    "# テーブルコメント\n",
    "comment = \"\"\"\n",
    "テーブル名：`ab_receipt_gold / 領収書（ゴールド）`\n",
    "説明：領収書データをパースして構造化したテーブルです。分析用に使います。\n",
    "\"\"\"\n",
    "spark.sql(f'COMMENT ON TABLE {table_name} IS \"{comment}\"')\n",
    "\n",
    "# カラムコメント\n",
    "column_comments = {\n",
    "    \"id\": \"自動採番したユニークID\",\n",
    "    \"issue_date\": \"発行日\",\n",
    "    \"billing_name\": \"請求先名\",\n",
    "    \"supplier_zip\": \"請求元 郵便番号\",\n",
    "    \"supplier_address\": \"請求元 住所\",\n",
    "    \"supplier_company\": \"請求元 企業名\",\n",
    "    \"supplier_department\": \"請求元 部署名\",\n",
    "    \"item_name\": \"明細 商品名\",\n",
    "    \"item_qty\": \"明細 数量\",\n",
    "    \"item_unit_price\": \"明細 単価\",\n",
    "    \"item_amount\": \"明細 金額\",\n",
    "    \"subtotal\": \"小計（税抜）\",\n",
    "    \"consumption_tax\": \"消費税金額\",\n",
    "    \"total_amount_with_tax\": \"合計金額（税込）\",\n",
    "    \"remarks\": \"備考\"\n",
    "}\n",
    "\n",
    "for column, comment in column_comments.items():\n",
    "    escaped_comment = comment.replace(\"'\", \"\\\\'\")\n",
    "    sql_query = f\"ALTER TABLE {table_name} ALTER COLUMN {column} COMMENT '{escaped_comment}'\"\n",
    "    spark.sql(sql_query)"
   ]
  }
 ],
 "metadata": {
  "application/vnd.databricks.v1+notebook": {
   "computePreferences": {
    "hardware": {
     "accelerator": null,
     "gpuPoolId": null,
     "memory": null
    }
   },
   "dashboards": [],
   "environmentMetadata": {
    "base_environment": "",
    "environment_version": "2"
   },
   "inputWidgetPreferences": null,
   "language": "python",
   "notebookMetadata": {
    "mostRecentlyExecutedCommandWithImplicitDF": {
     "commandId": -1,
     "dataframes": [
      "_sqldf"
     ]
    },
    "pythonIndentUnit": 2
   },
   "notebookName": "03_AgentBricks",
   "widgets": {}
  },
  "language_info": {
   "name": "python"
  }
 },
 "nbformat": 4,
 "nbformat_minor": 0
}
