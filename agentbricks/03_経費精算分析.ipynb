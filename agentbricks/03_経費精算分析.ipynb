{
 "cells": [
  {
   "cell_type": "code",
   "execution_count": 0,
   "metadata": {
    "application/vnd.databricks.v1+cell": {
     "cellMetadata": {
      "byteLimit": 2048000,
      "rowLimit": 10000
     },
     "inputWidgets": {},
     "nuid": "d6ec0f18-3e56-4dd5-8c06-7bd7dc938c89",
     "showTitle": false,
     "tableResultSettingsMap": {},
     "title": ""
    }
   },
   "outputs": [],
   "source": [
    "%run ./00_config"
   ]
  },
  {
   "cell_type": "markdown",
   "metadata": {
    "application/vnd.databricks.v1+cell": {
     "cellMetadata": {
      "byteLimit": 2048000,
      "rowLimit": 10000
     },
     "inputWidgets": {},
     "nuid": "6a1d4a99-2b3b-4ec4-a8bc-823723cde44e",
     "showTitle": false,
     "tableResultSettingsMap": {},
     "title": ""
    }
   },
   "source": [
    "### 1. bronze"
   ]
  },
  {
   "cell_type": "code",
   "execution_count": 0,
   "metadata": {
    "application/vnd.databricks.v1+cell": {
     "cellMetadata": {
      "byteLimit": 2048000,
      "rowLimit": 10000
     },
     "inputWidgets": {},
     "nuid": "0b7f1596-ce18-47a0-abc0-baddf2b079bb",
     "showTitle": false,
     "tableResultSettingsMap": {},
     "title": ""
    }
   },
   "outputs": [],
   "source": [
    "spark.sql(f\"\"\"\n",
    "-- ボリュームのファイルの文字を抽出し、bronzeテーブルを作成\n",
    "CREATE OR REPLACE TABLE {MY_CATALOG}.{MY_SCHEMA}.receipt_bronze AS\n",
    "SELECT\n",
    "  path,\n",
    "  ai_parse_document(content) AS content\n",
    "FROM\n",
    "  READ_FILES(\n",
    "    '/Volumes/{MY_CATALOG}/{MY_SCHEMA}/{MY_VOLUME}/binary/pdf',\n",
    "    format => 'binaryFile'\n",
    "  );\n",
    "\"\"\")"
   ]
  },
  {
   "cell_type": "markdown",
   "metadata": {
    "application/vnd.databricks.v1+cell": {
     "cellMetadata": {
      "byteLimit": 2048000,
      "rowLimit": 10000
     },
     "inputWidgets": {},
     "nuid": "040b8516-8bea-4474-b04c-886a98cac862",
     "showTitle": false,
     "tableResultSettingsMap": {},
     "title": ""
    }
   },
   "source": [
    "### 2. silver"
   ]
  },
  {
   "cell_type": "code",
   "execution_count": 0,
   "metadata": {
    "application/vnd.databricks.v1+cell": {
     "cellMetadata": {
      "byteLimit": 2048000,
      "rowLimit": 10000
     },
     "inputWidgets": {},
     "nuid": "cda7c2f6-1e6b-4803-94c0-c24f1e76cc9f",
     "showTitle": false,
     "tableResultSettingsMap": {},
     "title": ""
    }
   },
   "outputs": [],
   "source": [
    "prompt = \"\"\"\n",
    "貴方はテキスト整理のプロフェッショナルです。請求書についてJSON形式でまとめてください。parse_jsonできるように余計な文字列は入れないでください。\n",
    "発行日（yyyy-MM-dd形式）、請求先名、請求元（郵便番号、住所、企業名、部署名）、明細（商品名、数量、単価、金額）、小計、消費税、合計金額、備考をまとめて一つのテキストに整形してください。\n",
    "Keyはそれぞれ\"発行日\"、\"請求先名\"、\"請求元\"、\"明細\"、\"小計\"、\"消費税\"、\"合計金額\"、\"備考\"、でお願いします。\n",
    "[で始まり、]で終わるJSONで返してください。``````という文字列は抜いてください。\n",
    "数値（数量、単価、金額、小計、消費税金額、合計金額）は数字型で扱えるように単位は抜いてください。\n",
    "不明な場合は空白(\"\") or nullにしてください。\n",
    "フォーマットサンプル：\n",
    "[\n",
    "  {\n",
    "    \"発行日\": \"1900-01-01\",\n",
    "    \"請求先名\": \"\",\n",
    "    \"請求元\": {\n",
    "      \"郵便番号\": \"\",\n",
    "      \"住所\": \"\",\n",
    "      \"企業名\": \"\",\n",
    "      \"部署名\": \"\"\n",
    "    },\n",
    "    \"明細\": [\n",
    "      {\n",
    "        \"商品名\": \"\",\n",
    "        \"数量\": 0,\n",
    "        \"単価\": 0,\n",
    "        \"金額\": 0\n",
    "      }\n",
    "    ],\n",
    "    \"小計\": 0,\n",
    "    \"消費税\": 0,\n",
    "    \"合計金額\": 0,\n",
    "    \"備考\": \"\"\n",
    "  }\n",
    "]\n",
    "\"\"\"\n",
    "\n",
    "spark.sql(f\"\"\"\n",
    "-- bronzeテーブルから必要項目を切り出して、Silverをテーブルを作成\n",
    "CREATE OR REPLACE TABLE {MY_CATALOG}.{MY_SCHEMA}.receipt_silver AS\n",
    "SELECT\n",
    "  path,\n",
    "  ai_query(\n",
    "    'databricks-claude-sonnet-4',\n",
    "    '{prompt}' || content\n",
    "  ) AS summary\n",
    "FROM\n",
    "  {MY_CATALOG}.{MY_SCHEMA}.receipt_bronze\n",
    "\"\"\")"
   ]
  },
  {
   "cell_type": "code",
   "execution_count": 0,
   "metadata": {
    "application/vnd.databricks.v1+cell": {
     "cellMetadata": {
      "byteLimit": 2048000,
      "rowLimit": 10000
     },
     "inputWidgets": {},
     "nuid": "67c006f1-3396-4d54-8ec8-98be4457b158",
     "showTitle": false,
     "tableResultSettingsMap": {},
     "title": ""
    }
   },
   "outputs": [],
   "source": [
    "# prompt = \"\"\"\n",
    "# You are a professional at organizing text. Please summarize the invoice in JSON format. Do not include any unnecessary strings so that it can be parsed with parse_json.\n",
    "# Please organize the following items into a single text: Issue date (yyyy-MM-dd format), Billing recipient name, Billing sender (postal code, address, company name, department name), Details (product name, quantity, unit price, amount), Subtotal, Consumption tax, Total amount, Remarks.\n",
    "# Please use the following keys: \"発行日\", \"請求先名\", \"請求元\", \"明細\", \"小計\", \"消費税\", \"合計金額\", \"備考\".\n",
    "# Return the result as JSON starting with [ and ending with ]. Do not include the string .\n",
    "# For numeric values (quantity, unit price, amount, subtotal, consumption tax, total amount), remove units so that they can be handled as numbers.\n",
    "# If any item is unknown, leave it as an empty string (\"\") or null.\n",
    "# Format sample:\n",
    "# [\n",
    "#   {\n",
    "#     \"発行日\": \"1900-01-01\",\n",
    "#     \"請求先名\": \"\",\n",
    "#     \"請求元\": {\n",
    "#       \"郵便番号\": \"\",\n",
    "#       \"住所\": \"\",\n",
    "#       \"企業名\": \"\",\n",
    "#       \"部署名\": \"\"\n",
    "#     },\n",
    "#     \"明細\": [\n",
    "#       {\n",
    "#         \"商品名\": \"\",\n",
    "#         \"数量\": 0,\n",
    "#         \"単価\": 0,\n",
    "#         \"金額\": 0\n",
    "#       }\n",
    "#     ],\n",
    "#     \"小計\": 0,\n",
    "#     \"消費税\": 0,\n",
    "#     \"合計金額\": 0,\n",
    "#     \"備考\": \"\"\n",
    "#   }\n",
    "# ]\n",
    "# \"\"\"\n",
    "\n",
    "# spark.sql(f\"\"\"\n",
    "# -- bronzeテーブルから必要項目を切り出して、Silverをテーブルを作成\n",
    "# CREATE OR REPLACE TABLE {MY_CATALOG}.{MY_SCHEMA}.receipt_silver AS\n",
    "# SELECT\n",
    "#   path,\n",
    "#   ai_query(\n",
    "#     'databricks-claude-sonnet-4',\n",
    "#     '{prompt}' || content\n",
    "#   ) AS summary\n",
    "# FROM\n",
    "#   {MY_CATALOG}.{MY_SCHEMA}.receipt_bronze\n",
    "# \"\"\")"
   ]
  },
  {
   "cell_type": "code",
   "execution_count": 0,
   "metadata": {
    "application/vnd.databricks.v1+cell": {
     "cellMetadata": {
      "byteLimit": 2048000,
      "implicitDf": true,
      "rowLimit": 10000
     },
     "inputWidgets": {},
     "nuid": "2f842d5a-79b5-444a-a5f9-76207d583715",
     "showTitle": false,
     "tableResultSettingsMap": {
      "0": {
       "dataGridStateBlob": "{\"version\":1,\"tableState\":{\"columnPinning\":{\"left\":[\"#row_number#\"],\"right\":[]},\"columnSizing\":{\"#row_number#\":53},\"columnVisibility\":{}},\"settings\":{\"columns\":{}},\"syncTimestamp\":1756311143527}",
       "filterBlob": null,
       "queryPlanFiltersBlob": null,
       "tableResultIndex": 0
      }
     },
     "title": ""
    }
   },
   "outputs": [],
   "source": [
    "%sql\n",
    "select * from receipt_silver"
   ]
  },
  {
   "cell_type": "markdown",
   "metadata": {
    "application/vnd.databricks.v1+cell": {
     "cellMetadata": {
      "byteLimit": 2048000,
      "rowLimit": 10000
     },
     "inputWidgets": {},
     "nuid": "47bcf9cc-9a6a-4d4b-aca2-1e9e5f9f4e65",
     "showTitle": false,
     "tableResultSettingsMap": {},
     "title": ""
    }
   },
   "source": [
    "### 2. gold"
   ]
  },
  {
   "cell_type": "code",
   "execution_count": 0,
   "metadata": {
    "application/vnd.databricks.v1+cell": {
     "cellMetadata": {
      "byteLimit": 2048000,
      "rowLimit": 10000
     },
     "inputWidgets": {},
     "nuid": "eaa23276-aabc-4233-a122-ea083e40b191",
     "showTitle": false,
     "tableResultSettingsMap": {},
     "title": ""
    }
   },
   "outputs": [],
   "source": [
    "spark.sql(f\"\"\"\n",
    "-- json形式に格納されたSilverテーブルを展開して、Goldテーブルを作成\n",
    "CREATE OR REPLACE TABLE {MY_CATALOG}.{MY_SCHEMA}.receipt_gold AS\n",
    "SELECT\n",
    "  uuid() AS id,\n",
    "  regexp_replace(\n",
    "    split(path, '/')[size(split(path, '/'))-1],\n",
    "    '\\\\.pdf$',\n",
    "    ''\n",
    "  ) AS file_name,\n",
    "  parsed.`発行日` AS issue_date,\n",
    "  parsed.`請求先名` AS billing_name,\n",
    "  parsed.`請求元`.`郵便番号` AS supplier_zip,\n",
    "  parsed.`請求元`.`住所` AS supplier_address,\n",
    "  parsed.`請求元`.`企業名` AS supplier_company,\n",
    "  parsed.`請求元`.`部署名` AS supplier_department,\n",
    "  details.`商品名` AS item_name,\n",
    "  CAST(details.`数量` AS BIGINT) AS item_qty,\n",
    "  CAST(details.`単価` AS BIGINT) AS item_unit_price,\n",
    "  CAST(details.`金額` AS BIGINT) AS item_amount,\n",
    "  CAST(parsed.`小計` AS BIGINT) AS subtotal,\n",
    "  CAST(parsed.`消費税` AS BIGINT) AS consumption_tax,\n",
    "  CAST(parsed.`小計` AS BIGINT) + CAST(parsed.`消費税` AS BIGINT) AS total_amount_with_tax,\n",
    "  parsed.`備考` AS remarks\n",
    "FROM\n",
    "  {MY_CATALOG}.{MY_SCHEMA}.receipt_silver\n",
    "LATERAL VIEW\n",
    "  EXPLODE(\n",
    "    from_json(\n",
    "      summary,\n",
    "      'ARRAY<STRUCT<`発行日`:STRING,`請求先名`:STRING,`請求元`:STRUCT<`郵便番号`:STRING,`住所`:STRING,`企業名`:STRING,`部署名`:STRING>,`明細`:ARRAY<STRUCT<`商品名`:STRING,`数量`:DOUBLE,`単価`:DOUBLE,`金額`:DOUBLE>>,`小計`:DOUBLE,`消費税`:DOUBLE,`備考`:STRING>>'\n",
    "    )\n",
    "  ) exploded_receipt AS parsed\n",
    "LATERAL VIEW\n",
    "  EXPLODE(parsed.`明細`) details AS details\n",
    "\"\"\")"
   ]
  },
  {
   "cell_type": "code",
   "execution_count": 0,
   "metadata": {
    "application/vnd.databricks.v1+cell": {
     "cellMetadata": {
      "byteLimit": 2048000,
      "rowLimit": 10000
     },
     "inputWidgets": {},
     "nuid": "a7af1508-d404-4ade-a1c6-671918ac5562",
     "showTitle": false,
     "tableResultSettingsMap": {},
     "title": ""
    }
   },
   "outputs": [],
   "source": [
    "spark.sql(f\"\"\"\n",
    "-- Goldテーブルに対してCDFを有効化\n",
    "ALTER TABLE {MY_CATALOG}.{MY_SCHEMA}.receipt_gold\n",
    "SET TBLPROPERTIES (delta.enableChangeDataFeed = true);\n",
    "\"\"\")"
   ]
  },
  {
   "cell_type": "code",
   "execution_count": 0,
   "metadata": {
    "application/vnd.databricks.v1+cell": {
     "cellMetadata": {
      "byteLimit": 2048000,
      "rowLimit": 10000
     },
     "inputWidgets": {},
     "nuid": "4f9ec4f3-a407-4c65-a5af-e5811705ec6d",
     "showTitle": true,
     "tableResultSettingsMap": {},
     "title": "主キー設定"
    }
   },
   "outputs": [],
   "source": [
    "# 変数定義\n",
    "TABLE_PATH = f'{MY_CATALOG}.{MY_SCHEMA}.receipt_gold'                 # テーブルパス\n",
    "PK_CONSTRAINT_NAME = f'pk_receipt_gold'                               # 主キー\n",
    "\n",
    "# NOT NULL制約の追加\n",
    "columns_to_set_not_null = [\n",
    "    'id']\n",
    "\n",
    "for column in columns_to_set_not_null:\n",
    "    spark.sql(f\"\"\"\n",
    "    ALTER TABLE {TABLE_PATH}\n",
    "    ALTER COLUMN {column} SET NOT NULL;\n",
    "    \"\"\")\n",
    "\n",
    "# 主キー設定\n",
    "spark.sql(f'''\n",
    "ALTER TABLE {TABLE_PATH} DROP CONSTRAINT IF EXISTS {PK_CONSTRAINT_NAME};\n",
    "''')\n",
    "\n",
    "spark.sql(f'''\n",
    "ALTER TABLE {TABLE_PATH}\n",
    "ADD CONSTRAINT {PK_CONSTRAINT_NAME} PRIMARY KEY (id);\n",
    "''')\n",
    "\n",
    "# # チェック\n",
    "# display(\n",
    "#     spark.sql(f'''\n",
    "#     DESCRIBE EXTENDED {TABLE_PATH}\n",
    "#     '''))"
   ]
  },
  {
   "cell_type": "code",
   "execution_count": 0,
   "metadata": {
    "application/vnd.databricks.v1+cell": {
     "cellMetadata": {
      "byteLimit": 2048000,
      "rowLimit": 10000
     },
     "inputWidgets": {},
     "nuid": "cabe72b4-9ddf-44c6-8298-66e5ba3aaeac",
     "showTitle": true,
     "tableResultSettingsMap": {},
     "title": "認定済みタグの追加"
    }
   },
   "outputs": [],
   "source": [
    "certified_tag = 'system.Certified'\n",
    "\n",
    "try:\n",
    "    spark.sql(f\"ALTER TABLE receipt_gold SET TAGS ('{certified_tag}')\")\n",
    "    print(f\"認定済みタグ '{certified_tag}' の追加が完了しました。\")\n",
    "\n",
    "except Exception as e:\n",
    "    print(f\"認定済みタグ '{certified_tag}' の追加中にエラーが発生しました: {str(e)}\")\n",
    "    print(\"このエラーはタグ機能に対応していないワークスペースで実行した場合に発生する可能性があります。\")"
   ]
  },
  {
   "cell_type": "code",
   "execution_count": 0,
   "metadata": {
    "application/vnd.databricks.v1+cell": {
     "cellMetadata": {
      "byteLimit": 2048000,
      "rowLimit": 10000
     },
     "inputWidgets": {},
     "nuid": "f99615fe-12bf-4d56-851c-e63853bc6a8b",
     "showTitle": true,
     "tableResultSettingsMap": {},
     "title": "コメント追加"
    }
   },
   "outputs": [],
   "source": [
    "# テーブル名\n",
    "table_name = f'{MY_CATALOG}.{MY_SCHEMA}.receipt_gold'\n",
    "\n",
    "# テーブルコメント\n",
    "comment = \"\"\"\n",
    "テーブル名：`receipt_gold / 領収書（ゴールド）`\n",
    "説明：領収書データをパースして構造化したテーブルです。分析用に使います。\n",
    "\"\"\"\n",
    "spark.sql(f'COMMENT ON TABLE {table_name} IS \"{comment}\"')\n",
    "\n",
    "# カラムコメント\n",
    "column_comments = {\n",
    "    \"id\": \"自動採番したユニークID\",\n",
    "    \"file_name\": \"アップロードされたPDFのファイル名\",\n",
    "    \"issue_date\": \"発行日\",\n",
    "    \"billing_name\": \"請求先名\",\n",
    "    \"supplier_zip\": \"請求元 郵便番号\",\n",
    "    \"supplier_address\": \"請求元 住所\",\n",
    "    \"supplier_company\": \"請求元 企業名\",\n",
    "    \"supplier_department\": \"請求元 部署名\",\n",
    "    \"item_name\": \"明細 商品名\",\n",
    "    \"item_qty\": \"明細 数量\",\n",
    "    \"item_unit_price\": \"明細 単価\",\n",
    "    \"item_amount\": \"明細 金額\",\n",
    "    \"subtotal\": \"小計（税抜）\",\n",
    "    \"consumption_tax\": \"消費税金額\",\n",
    "    \"total_amount_with_tax\": \"合計金額（税込）\",\n",
    "    \"remarks\": \"備考\"\n",
    "}\n",
    "\n",
    "for column, comment in column_comments.items():\n",
    "    escaped_comment = comment.replace(\"'\", \"\\\\'\")\n",
    "    sql_query = f\"ALTER TABLE {table_name} ALTER COLUMN {column} COMMENT '{escaped_comment}'\"\n",
    "    spark.sql(sql_query)\n"
   ]
  },
  {
   "cell_type": "markdown",
   "metadata": {
    "application/vnd.databricks.v1+cell": {
     "cellMetadata": {},
     "inputWidgets": {},
     "nuid": "cd6a2453-61a6-4efd-922b-fe198ccee33a",
     "showTitle": false,
     "tableResultSettingsMap": {},
     "title": ""
    }
   },
   "source": [
    "## Agent Bricks"
   ]
  },
  {
   "cell_type": "code",
   "execution_count": 0,
   "metadata": {
    "application/vnd.databricks.v1+cell": {
     "cellMetadata": {
      "byteLimit": 2048000,
      "rowLimit": 10000
     },
     "inputWidgets": {},
     "nuid": "ae7cad00-b1a6-4713-961e-ba0d1bde7803",
     "showTitle": false,
     "tableResultSettingsMap": {},
     "title": ""
    }
   },
   "outputs": [],
   "source": [
    "print(\"\"\"\n",
    "[\n",
    "  {\n",
    "    \"issue_date\": \"2024-12-21\",\n",
    "    \"billing_name\": \"ブリックステンレス株式会社\",\n",
    "    \"supplier_zip\": \"150-0002\",\n",
    "    \"supplier_address\": \"東京都公共交通合2-12-19 ΔΔΔビル 1 F\",\n",
    "    \"supplier_company\": \"株式会社パーパスメディア\",\n",
    "    \"supplier_department\": \"営業推進部\",\n",
    "    \"details\": [\n",
    "      {\n",
    "        \"item_name\": \"プロジェクター短期レンタル\",\n",
    "        \"item_qty\": null,\n",
    "        \"item_unit_price\": null,\n",
    "        \"item_amount\": 407957393\n",
    "      }\n",
    "    ],\n",
    "    \"subtotal\": 370870358,\n",
    "    \"consumption_tax\": 37087035,\n",
    "    \"total_amount_with_tax\": 407957393,\n",
    "    \"remarks\": \"プロジェクター短期レンタル代金として\"\n",
    "  }\n",
    "]\n",
    "\"\"\")"
   ]
  }
 ],
 "metadata": {
  "application/vnd.databricks.v1+notebook": {
   "computePreferences": {
    "hardware": {
     "accelerator": null,
     "gpuPoolId": null,
     "memory": null
    }
   },
   "dashboards": [],
   "environmentMetadata": {
    "base_environment": "",
    "environment_version": "2"
   },
   "inputWidgetPreferences": null,
   "language": "python",
   "notebookMetadata": {
    "mostRecentlyExecutedCommandWithImplicitDF": {
     "commandId": 3036037102206471,
     "dataframes": [
      "_sqldf"
     ]
    },
    "pythonIndentUnit": 2
   },
   "notebookName": "03_経費精算分析",
   "widgets": {}
  },
  "language_info": {
   "name": "python"
  }
 },
 "nbformat": 4,
 "nbformat_minor": 0
}
