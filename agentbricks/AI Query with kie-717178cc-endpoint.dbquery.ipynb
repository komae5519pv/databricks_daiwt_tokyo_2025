{
 "cells": [
  {
   "cell_type": "code",
   "execution_count": 0,
   "metadata": {
    "application/vnd.databricks.v1+cell": {
     "cellMetadata": {
      "byteLimit": 10485760,
      "rowLimit": 64000
     },
     "inputWidgets": {},
     "nuid": "f9bd0efa-8766-4078-9f8a-2ea6a11afc7b",
     "showTitle": false,
     "tableResultSettingsMap": {},
     "title": ""
    }
   },
   "outputs": [],
   "source": [
    "WITH query_results AS (\n",
    "  SELECT text AS input,\n",
    "    ai_query(\n",
    "      'kie-717178cc-endpoint',\n",
    "      input,\n",
    "      failOnError => false\n",
    "    ) AS response\n",
    "  FROM (\n",
    "    SELECT text\n",
    "       FROM komae_demo_v3.agentbricks_extract_info.receipt_ab_bronze\n",
    "    LIMIT 20\n",
    "  )\n",
    ")\n",
    "SELECT\n",
    "  input,\n",
    "  response.result AS response,\n",
    "  response.errorMessage AS error\n",
    "FROM query_results"
   ]
  }
 ],
 "metadata": {
  "application/vnd.databricks.v1+notebook": {
   "computePreferences": null,
   "dashboards": [],
   "environmentMetadata": null,
   "inputWidgetPreferences": null,
   "language": "sql",
   "notebookMetadata": {
    "pythonIndentUnit": 2,
    "sqlQueryOptions": {
     "applyAutoLimit": false,
     "catalog": "hive_metastore",
     "schema": "007d90de_9003_469e_b10d_c1400b2106f1"
    }
   },
   "notebookName": "AI Query with kie-717178cc-endpoint.dbquery.ipynb",
   "widgets": {}
  },
  "language_info": {
   "name": "sql"
  }
 },
 "nbformat": 4,
 "nbformat_minor": 0
}
