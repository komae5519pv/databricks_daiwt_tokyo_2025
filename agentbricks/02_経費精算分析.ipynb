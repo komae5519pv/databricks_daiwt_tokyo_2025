{
 "cells": [
  {
   "cell_type": "markdown",
   "metadata": {
    "application/vnd.databricks.v1+cell": {
     "cellMetadata": {
      "byteLimit": 2048000,
      "rowLimit": 10000
     },
     "inputWidgets": {},
     "nuid": "456e2dff-ff20-472c-ae00-a5964515e109",
     "showTitle": false,
     "tableResultSettingsMap": {},
     "title": ""
    }
   },
   "source": [
    "[ai_parse_document 関数](https://learn.microsoft.com/ja-jp/azure/databricks/sql/language-manual/functions/ai_parse_document)<br>\n",
    "[ai_query 関数](https://learn.microsoft.com/ja-jp/azure/databricks/sql/language-manual/functions/ai_query)"
   ]
  },
  {
   "cell_type": "code",
   "execution_count": 0,
   "metadata": {
    "application/vnd.databricks.v1+cell": {
     "cellMetadata": {
      "byteLimit": 2048000,
      "rowLimit": 10000
     },
     "inputWidgets": {},
     "nuid": "d6ec0f18-3e56-4dd5-8c06-7bd7dc938c89",
     "showTitle": false,
     "tableResultSettingsMap": {},
     "title": ""
    }
   },
   "outputs": [],
   "source": [
    "%run ./00_config"
   ]
  },
  {
   "cell_type": "markdown",
   "metadata": {
    "application/vnd.databricks.v1+cell": {
     "cellMetadata": {
      "byteLimit": 2048000,
      "rowLimit": 10000
     },
     "inputWidgets": {},
     "nuid": "6a1d4a99-2b3b-4ec4-a8bc-823723cde44e",
     "showTitle": false,
     "tableResultSettingsMap": {},
     "title": ""
    }
   },
   "source": [
    "### 1. bronze"
   ]
  },
  {
   "cell_type": "code",
   "execution_count": 0,
   "metadata": {
    "application/vnd.databricks.v1+cell": {
     "cellMetadata": {
      "byteLimit": 2048000,
      "rowLimit": 10000
     },
     "inputWidgets": {},
     "nuid": "0b7f1596-ce18-47a0-abc0-baddf2b079bb",
     "showTitle": true,
     "tableResultSettingsMap": {},
     "title": "テーブル作成"
    }
   },
   "outputs": [],
   "source": [
    "spark.sql(f\"\"\"\n",
    "-- ボリュームのファイルの文字を抽出し、bronzeテーブルを作成\n",
    "CREATE OR REPLACE TABLE {MY_CATALOG}.{MY_SCHEMA}.sql_receipt_bronze AS\n",
    "SELECT\n",
    "  path,\n",
    "  ai_parse_document(content) AS content\n",
    "FROM\n",
    "  READ_FILES(\n",
    "    '/Volumes/{MY_CATALOG}/{MY_SCHEMA}/{MY_VOLUME}/binary/pdf',\n",
    "    format => 'binaryFile'\n",
    "  );\n",
    "\"\"\")"
   ]
  },
  {
   "cell_type": "markdown",
   "metadata": {
    "application/vnd.databricks.v1+cell": {
     "cellMetadata": {
      "byteLimit": 2048000,
      "rowLimit": 10000
     },
     "inputWidgets": {},
     "nuid": "040b8516-8bea-4474-b04c-886a98cac862",
     "showTitle": false,
     "tableResultSettingsMap": {},
     "title": ""
    }
   },
   "source": [
    "### 2. silver"
   ]
  },
  {
   "cell_type": "code",
   "execution_count": 0,
   "metadata": {
    "application/vnd.databricks.v1+cell": {
     "cellMetadata": {
      "byteLimit": 2048000,
      "rowLimit": 10000
     },
     "inputWidgets": {},
     "nuid": "5e546184-c0fc-4aa4-90e3-ee24b1c8ec10",
     "showTitle": true,
     "tableResultSettingsMap": {},
     "title": "テーブル作成(JP)"
    }
   },
   "outputs": [],
   "source": [
    "prompt = \"\"\"\n",
    "貴方はテキスト整理のプロフェッショナルです。請求書についてJSON形式でまとめてください。parse_jsonできるように余計な文字列は入れないでください。\n",
    "発行日（yyyy-MM-dd形式）、請求先名、請求元（郵便番号、住所、企業名、部署名）、明細（商品名、数量、単価、金額）、小計、消費税、合計金額、備考をまとめて一つのテキストに整形してください。\n",
    "Keyはそれぞれ\"発行日(issue_date)\"、\"請求先名(billing_name)\"、\"請求元(supplier)\"、\"明細(details)\"、\"小計(subtotal)\"、\"消費税(consumption_tax)\"、\"合計金額(total_amount)\"、\"備考(remarks)\"、でお願いします。\n",
    "{で始まり、}で終わるJSONで返してください。``````という文字列は抜いてください。\n",
    "数値（数量、単価、金額、小計、消費税金額、合計金額）は数字型で扱えるように単位は抜いてください。\n",
    "不明な場合は空白(\"\") or nullにしてください。\n",
    "フォーマットサンプル：\n",
    "{\n",
    "  \"issue_date\": \"1900-01-01\",\n",
    "  \"billing_name\": \"\",\n",
    "  \"supplier\": {\n",
    "    \"zip_code\": \"\",\n",
    "    \"address\": \"\",\n",
    "    \"company_name\": \"\",\n",
    "    \"department_name\": \"\"\n",
    "  },\n",
    "  \"details\": [\n",
    "    {\n",
    "      \"item_name\": \"\",\n",
    "      \"item_quantity\": 0,\n",
    "      \"item_unit_price\": 0,\n",
    "      \"item_amount\": 0\n",
    "    }\n",
    "  ],\n",
    "  \"subtotal\": 0,\n",
    "  \"consumption_tax\": 0,\n",
    "  \"total_amount\": 0,\n",
    "  \"remarks\": \"\"\n",
    "}\n",
    "\"\"\"\n",
    "\n",
    "spark.sql(f\"\"\"\n",
    "-- bronzeテーブルから必要項目を切り出して、Silverをテーブルを作成\n",
    "CREATE OR REPLACE TABLE {MY_CATALOG}.{MY_SCHEMA}.sql_receipt_silver AS\n",
    "SELECT\n",
    "  path,\n",
    "  ai_query(\n",
    "    'databricks-claude-sonnet-4',\n",
    "    '{prompt}' || content\n",
    "  ) AS summary\n",
    "FROM\n",
    "  {MY_CATALOG}.{MY_SCHEMA}.sql_receipt_bronze\n",
    "\"\"\")"
   ]
  },
  {
   "cell_type": "code",
   "execution_count": 0,
   "metadata": {
    "application/vnd.databricks.v1+cell": {
     "cellMetadata": {
      "byteLimit": 2048000,
      "rowLimit": 10000
     },
     "inputWidgets": {},
     "nuid": "10e839b9-aa80-48c0-bd14-329d04b909bf",
     "showTitle": true,
     "tableResultSettingsMap": {},
     "title": "テーブル作成(EN)"
    },
    "jupyter": {
     "source_hidden": true
    }
   },
   "outputs": [],
   "source": [
    "# prompt = \"\"\"\n",
    "# You are a professional at organizing text. Please summarize the invoice in JSON format. Do not include any extra strings so that it can be parsed with parse_json.\n",
    "# Please extract and format the following fields into a single JSON text: Issue Date (yyyy-MM-dd format), Billing Name, Supplier (Zip Code, Address, Company Name, Department Name), Details (Item Name, Quantity, Unit Price, Amount), Subtotal, Consumption Tax, Total Amount, and Remarks.\n",
    "# Use the following keys: \"issue_date\", \"billing_name\", \"supplier\", \"details\", \"subtotal\", \"consumption_tax\", \"total_amount\", and \"remarks\".\n",
    "# Return the result as a JSON starting with { and ending with }. Do not include the string .\n",
    "# For numeric fields (quantity, unit price, amount, subtotal, consumption tax, total amount), remove any units so they can be handled as numbers.\n",
    "# If any value is unknown, set it as \"\" (empty string) or null.\n",
    "# Format sample:\n",
    "# {\n",
    "#   \"issue_date\": \"1900-01-01\",\n",
    "#   \"billing_name\": \"\",\n",
    "#   \"supplier\": {\n",
    "#     \"zip_code\": \"\",\n",
    "#     \"address\": \"\",\n",
    "#     \"company_name\": \"\",\n",
    "#     \"department_name\": \"\"\n",
    "#   },\n",
    "#   \"details\": [\n",
    "#     {\n",
    "#       \"item_name\": \"\",\n",
    "#       \"item_quantity\": 0,\n",
    "#       \"item_unit_price\": 0,\n",
    "#       \"item_amount\": 0\n",
    "#     }\n",
    "#   ],\n",
    "#   \"subtotal\": 0,\n",
    "#   \"consumption_tax\": 0,\n",
    "#   \"total_amount\": 0,\n",
    "#   \"remarks\": \"\"\n",
    "# }\n",
    "# \"\"\"\n",
    "\n",
    "# spark.sql(f\"\"\"\n",
    "# -- Extract required fields from the bronze table and create the silver table\n",
    "# CREATE OR REPLACE TABLE {MY_CATALOG}.{MY_SCHEMA}.sql_receipt_silver AS\n",
    "# SELECT\n",
    "#   path,\n",
    "#   ai_query(\n",
    "#     'databricks-claude-sonnet-4',\n",
    "#     '{prompt}' || content\n",
    "#   ) AS summary\n",
    "# FROM\n",
    "#   {MY_CATALOG}.{MY_SCHEMA}.sql_receipt_bronze\n",
    "# \"\"\")"
   ]
  },
  {
   "cell_type": "code",
   "execution_count": 0,
   "metadata": {
    "application/vnd.databricks.v1+cell": {
     "cellMetadata": {
      "byteLimit": 2048000,
      "implicitDf": true,
      "rowLimit": 10000
     },
     "inputWidgets": {},
     "nuid": "2f842d5a-79b5-444a-a5f9-76207d583715",
     "showTitle": true,
     "tableResultSettingsMap": {
      "0": {
       "dataGridStateBlob": "{\"version\":1,\"tableState\":{\"columnPinning\":{\"left\":[\"#row_number#\"],\"right\":[]},\"columnSizing\":{\"#row_number#\":53},\"columnVisibility\":{}},\"settings\":{\"columns\":{}},\"syncTimestamp\":1756311143527}",
       "filterBlob": null,
       "queryPlanFiltersBlob": null,
       "tableResultIndex": 0
      }
     },
     "title": "チェック"
    }
   },
   "outputs": [],
   "source": [
    "%sql\n",
    "select * from sql_receipt_silver"
   ]
  },
  {
   "cell_type": "markdown",
   "metadata": {
    "application/vnd.databricks.v1+cell": {
     "cellMetadata": {
      "byteLimit": 2048000,
      "rowLimit": 10000
     },
     "inputWidgets": {},
     "nuid": "47bcf9cc-9a6a-4d4b-aca2-1e9e5f9f4e65",
     "showTitle": false,
     "tableResultSettingsMap": {},
     "title": ""
    }
   },
   "source": [
    "### 2. gold"
   ]
  },
  {
   "cell_type": "code",
   "execution_count": 0,
   "metadata": {
    "application/vnd.databricks.v1+cell": {
     "cellMetadata": {
      "byteLimit": 2048000,
      "rowLimit": 10000
     },
     "inputWidgets": {},
     "nuid": "1dcc07a1-049c-4412-9903-6b3ce5d4bfb4",
     "showTitle": true,
     "tableResultSettingsMap": {},
     "title": "テーブル作成"
    }
   },
   "outputs": [],
   "source": [
    "# spark.sql(f\"\"\"\n",
    "# -- json形式に格納されたSilverテーブルを展開して、Goldテーブルを作成\n",
    "# CREATE OR REPLACE TABLE {MY_CATALOG}.{MY_SCHEMA}.receipt_gold AS\n",
    "# SELECT\n",
    "#   uuid() AS id,\n",
    "#   regexp_replace(\n",
    "#     split(path, '/')[size(split(path, '/'))-1],\n",
    "#     '\\\\.pdf$',\n",
    "#     ''\n",
    "#   ) AS file_name,\n",
    "#   parsed.`発行日` AS issue_date,\n",
    "#   parsed.`請求先名` AS billing_name,\n",
    "#   parsed.`請求元`.`郵便番号` AS supplier_zip,\n",
    "#   parsed.`請求元`.`住所` AS supplier_address,\n",
    "#   parsed.`請求元`.`企業名` AS supplier_company,\n",
    "#   parsed.`請求元`.`部署名` AS supplier_department,\n",
    "#   detail.`商品名` AS item_name,\n",
    "#   CAST(detail.`数量` AS BIGINT) AS item_qty,\n",
    "#   CAST(detail.`単価` AS BIGINT) AS item_unit_price,\n",
    "#   CAST(detail.`金額` AS BIGINT) AS item_amount,\n",
    "#   CAST(parsed.`小計` AS BIGINT) AS subtotal,\n",
    "#   CAST(parsed.`消費税` AS BIGINT) AS consumption_tax,\n",
    "#   CAST(parsed.`小計` AS BIGINT) + CAST(parsed.`消費税` AS BIGINT) AS total_amount_with_tax,\n",
    "#   parsed.`備考` AS remarks\n",
    "# FROM\n",
    "#   (\n",
    "#     SELECT\n",
    "#       *,\n",
    "#       from_json(\n",
    "#         summary,\n",
    "#         'STRUCT<`発行日`:STRING,`請求先名`:STRING,`請求元`:STRUCT<`郵便番号`:STRING,`住所`:STRING,`企業名`:STRING,`部署名`:STRING>,`明細`:ARRAY<STRUCT<`商品名`:STRING,`数量`:DOUBLE,`単価`:DOUBLE,`金額`:DOUBLE>>,`小計`:DOUBLE,`消費税`:DOUBLE,`備考`:STRING>'\n",
    "#       ) AS parsed\n",
    "#     FROM\n",
    "#       {MY_CATALOG}.{MY_SCHEMA}.receipt_silver\n",
    "#   )\n",
    "# LATERAL VIEW\n",
    "#   EXPLODE(parsed.`明細`) details AS detail\n",
    "# ;\n",
    "# \"\"\")"
   ]
  },
  {
   "cell_type": "code",
   "execution_count": 0,
   "metadata": {
    "application/vnd.databricks.v1+cell": {
     "cellMetadata": {
      "byteLimit": 2048000,
      "rowLimit": 10000
     },
     "inputWidgets": {},
     "nuid": "18ccc66e-4907-4eb8-bbe6-8ff650fae03a",
     "showTitle": true,
     "tableResultSettingsMap": {},
     "title": "テーブル作成"
    }
   },
   "outputs": [],
   "source": [
    "spark.sql(f\"\"\"\n",
    "-- json形式に格納されたSilverテーブルを展開して、Goldテーブルを作成\n",
    "CREATE OR REPLACE TABLE {MY_CATALOG}.{MY_SCHEMA}.sql_receipt_gold AS\n",
    "SELECT\n",
    "  uuid() AS id,\n",
    "  regexp_replace(\n",
    "    split(path, '/')[size(split(path, '/'))-1],\n",
    "    '\\\\.pdf$',\n",
    "    ''\n",
    "  ) AS file_name,\n",
    "  parsed.issue_date AS issue_date,                              -- 発行日\n",
    "  parsed.billing_name AS billing_name,                          -- 請求先名\n",
    "  parsed.supplier.zip_code AS supplier_zip,                     -- 請求元.郵便番号\n",
    "  parsed.supplier.address AS supplier_address,                  -- 請求元.住所\n",
    "  parsed.supplier.company_name AS supplier_company,             -- 請求元.企業名\n",
    "  parsed.supplier.department_name AS supplier_department,       -- 請求元.部署名\n",
    "  detail.item_name AS item_name,                                -- 商品名\n",
    "  CAST(detail.item_quantity AS BIGINT) AS item_qty,             -- 詳細.数量\n",
    "  CAST(detail.item_unit_price AS BIGINT) AS item_unit_price,    -- 詳細.単価\n",
    "  CAST(detail.item_amount AS BIGINT) AS item_amount,            -- 詳細.金額\n",
    "  CAST(parsed.subtotal AS BIGINT) AS subtotal,                  -- 小計（税抜）\n",
    "  CAST(parsed.consumption_tax AS BIGINT) AS consumption_tax,    -- 消費税金額\n",
    "  CAST(parsed.total_amount AS BIGINT) AS total_amount_with_tax, -- 合計金額（税込）\n",
    "  parsed.remarks AS remarks                                     -- 備考\n",
    "FROM (\n",
    "  SELECT\n",
    "    *,\n",
    "    from_json(\n",
    "      summary,\n",
    "      'STRUCT<\n",
    "         issue_date:STRING,\n",
    "         billing_name:STRING,\n",
    "         supplier:STRUCT<\n",
    "           zip_code:STRING,\n",
    "           address:STRING,\n",
    "           company_name:STRING,\n",
    "           department_name:STRING\n",
    "         >,\n",
    "         details:ARRAY<\n",
    "           STRUCT<\n",
    "             item_name:STRING,\n",
    "             item_quantity:DOUBLE,\n",
    "             item_unit_price:DOUBLE,\n",
    "             item_amount:DOUBLE\n",
    "           >\n",
    "         >,\n",
    "         subtotal:DOUBLE,\n",
    "         consumption_tax:DOUBLE,\n",
    "         total_amount:DOUBLE,\n",
    "         remarks:STRING\n",
    "       >'\n",
    "    ) AS parsed\n",
    "  FROM {MY_CATALOG}.{MY_SCHEMA}.sql_receipt_silver\n",
    ")\n",
    "LATERAL VIEW\n",
    "  EXPLODE(parsed.details) details AS detail\n",
    ";\n",
    "\"\"\")"
   ]
  },
  {
   "cell_type": "code",
   "execution_count": 0,
   "metadata": {
    "application/vnd.databricks.v1+cell": {
     "cellMetadata": {
      "byteLimit": 2048000,
      "implicitDf": true,
      "rowLimit": 10000
     },
     "inputWidgets": {},
     "nuid": "7d0a11da-d09c-405e-b1f8-ce499ca3c7ed",
     "showTitle": false,
     "tableResultSettingsMap": {},
     "title": ""
    }
   },
   "outputs": [],
   "source": [
    "%sql\n",
    "select * from sql_receipt_gold"
   ]
  },
  {
   "cell_type": "code",
   "execution_count": 0,
   "metadata": {
    "application/vnd.databricks.v1+cell": {
     "cellMetadata": {
      "byteLimit": 2048000,
      "rowLimit": 10000
     },
     "inputWidgets": {},
     "nuid": "a7af1508-d404-4ade-a1c6-671918ac5562",
     "showTitle": true,
     "tableResultSettingsMap": {},
     "title": "CDF有効化(vector search用)"
    }
   },
   "outputs": [],
   "source": [
    "# spark.sql(f\"\"\"\n",
    "# -- Goldテーブルに対してCDFを有効化\n",
    "# ALTER TABLE {MY_CATALOG}.{MY_SCHEMA}.sql_receipt_gold\n",
    "# SET TBLPROPERTIES (delta.enableChangeDataFeed = true);\n",
    "# \"\"\")"
   ]
  },
  {
   "cell_type": "code",
   "execution_count": 0,
   "metadata": {
    "application/vnd.databricks.v1+cell": {
     "cellMetadata": {
      "byteLimit": 2048000,
      "rowLimit": 10000
     },
     "inputWidgets": {},
     "nuid": "4f9ec4f3-a407-4c65-a5af-e5811705ec6d",
     "showTitle": true,
     "tableResultSettingsMap": {},
     "title": "主キー設定"
    }
   },
   "outputs": [],
   "source": [
    "# 変数定義\n",
    "TABLE_PATH = f'{MY_CATALOG}.{MY_SCHEMA}.sql_receipt_gold'                 # テーブルパス\n",
    "PK_CONSTRAINT_NAME = f'pk_sql_receipt_gold'                               # 主キー\n",
    "\n",
    "# NOT NULL制約の追加\n",
    "columns_to_set_not_null = [\n",
    "    'id']\n",
    "\n",
    "for column in columns_to_set_not_null:\n",
    "    spark.sql(f\"\"\"\n",
    "    ALTER TABLE {TABLE_PATH}\n",
    "    ALTER COLUMN {column} SET NOT NULL;\n",
    "    \"\"\")\n",
    "\n",
    "# 主キー設定\n",
    "spark.sql(f'''\n",
    "ALTER TABLE {TABLE_PATH} DROP CONSTRAINT IF EXISTS {PK_CONSTRAINT_NAME};\n",
    "''')\n",
    "\n",
    "spark.sql(f'''\n",
    "ALTER TABLE {TABLE_PATH}\n",
    "ADD CONSTRAINT {PK_CONSTRAINT_NAME} PRIMARY KEY (id);\n",
    "''')\n",
    "\n",
    "# # チェック\n",
    "# display(\n",
    "#     spark.sql(f'''\n",
    "#     DESCRIBE EXTENDED {TABLE_PATH}\n",
    "#     '''))"
   ]
  },
  {
   "cell_type": "code",
   "execution_count": 0,
   "metadata": {
    "application/vnd.databricks.v1+cell": {
     "cellMetadata": {
      "byteLimit": 2048000,
      "rowLimit": 10000
     },
     "inputWidgets": {},
     "nuid": "cabe72b4-9ddf-44c6-8298-66e5ba3aaeac",
     "showTitle": true,
     "tableResultSettingsMap": {},
     "title": "認定済みタグの追加"
    }
   },
   "outputs": [],
   "source": [
    "certified_tag = 'system.Certified'\n",
    "\n",
    "try:\n",
    "    spark.sql(f\"ALTER TABLE sql_receipt_gold SET TAGS ('{certified_tag}')\")\n",
    "    print(f\"認定済みタグ '{certified_tag}' の追加が完了しました。\")\n",
    "\n",
    "except Exception as e:\n",
    "    print(f\"認定済みタグ '{certified_tag}' の追加中にエラーが発生しました: {str(e)}\")\n",
    "    print(\"このエラーはタグ機能に対応していないワークスペースで実行した場合に発生する可能性があります。\")"
   ]
  },
  {
   "cell_type": "code",
   "execution_count": 0,
   "metadata": {
    "application/vnd.databricks.v1+cell": {
     "cellMetadata": {
      "byteLimit": 2048000,
      "rowLimit": 10000
     },
     "inputWidgets": {},
     "nuid": "f99615fe-12bf-4d56-851c-e63853bc6a8b",
     "showTitle": true,
     "tableResultSettingsMap": {},
     "title": "コメント追加"
    }
   },
   "outputs": [],
   "source": [
    "# テーブル名\n",
    "table_name = f'{MY_CATALOG}.{MY_SCHEMA}.sql_receipt_gold'\n",
    "\n",
    "# テーブルコメント\n",
    "comment = \"\"\"\n",
    "テーブル名：`sql_receipt_gold / 領収書（ゴールド）`\n",
    "説明：領収書データをパースして構造化したテーブルです。分析用に使います。\n",
    "\"\"\"\n",
    "spark.sql(f'COMMENT ON TABLE {table_name} IS \"{comment}\"')\n",
    "\n",
    "# カラムコメント\n",
    "column_comments = {\n",
    "    \"id\": \"自動採番したユニークID\",\n",
    "    \"file_name\": \"アップロードされたPDFのファイル名\",\n",
    "    \"issue_date\": \"発行日\",\n",
    "    \"billing_name\": \"請求先名\",\n",
    "    \"supplier_zip\": \"請求元 郵便番号\",\n",
    "    \"supplier_address\": \"請求元 住所\",\n",
    "    \"supplier_company\": \"請求元 企業名\",\n",
    "    \"supplier_department\": \"請求元 部署名\",\n",
    "    \"item_name\": \"明細 商品名\",\n",
    "    \"item_qty\": \"明細 数量\",\n",
    "    \"item_unit_price\": \"明細 単価\",\n",
    "    \"item_amount\": \"明細 金額\",\n",
    "    \"subtotal\": \"小計（税抜）\",\n",
    "    \"consumption_tax\": \"消費税金額\",\n",
    "    \"total_amount_with_tax\": \"合計金額（税込）\",\n",
    "    \"remarks\": \"備考\"\n",
    "}\n",
    "\n",
    "for column, comment in column_comments.items():\n",
    "    escaped_comment = comment.replace(\"'\", \"\\\\'\")\n",
    "    sql_query = f\"ALTER TABLE {table_name} ALTER COLUMN {column} COMMENT '{escaped_comment}'\"\n",
    "    spark.sql(sql_query)\n"
   ]
  }
 ],
 "metadata": {
  "application/vnd.databricks.v1+notebook": {
   "computePreferences": {
    "hardware": {
     "accelerator": null,
     "gpuPoolId": null,
     "memory": null
    }
   },
   "dashboards": [],
   "environmentMetadata": {
    "base_environment": "",
    "environment_version": "2"
   },
   "inputWidgetPreferences": null,
   "language": "python",
   "notebookMetadata": {
    "mostRecentlyExecutedCommandWithImplicitDF": {
     "commandId": 8321753609649766,
     "dataframes": [
      "_sqldf"
     ]
    },
    "pythonIndentUnit": 2
   },
   "notebookName": "02_経費精算分析",
   "widgets": {}
  },
  "language_info": {
   "name": "python"
  }
 },
 "nbformat": 4,
 "nbformat_minor": 0
}
